{
 "cells": [
  {
   "cell_type": "code",
   "execution_count": 1,
   "id": "531d6104-75ee-42cb-85e5-9c515ff38ef1",
   "metadata": {},
   "outputs": [],
   "source": [
    "import numpy as np\n",
    "import torch as t\n",
    "from matplotlib import pyplot as plt"
   ]
  },
  {
   "cell_type": "code",
   "execution_count": 6,
   "id": "c7143721-f8f8-4823-a95a-c4f63cb7093f",
   "metadata": {},
   "outputs": [
    {
     "data": {
      "text/plain": [
       "tensor([[0.4032, 0.0995],\n",
       "        [0.9925, 0.6339]])"
      ]
     },
     "execution_count": 6,
     "metadata": {},
     "output_type": "execute_result"
    }
   ],
   "source": [
    "s = t.rand(2,2)\n",
    "s"
   ]
  },
  {
   "cell_type": "code",
   "execution_count": 11,
   "id": "c1eef52a-f9ee-4011-b79d-ee4c7474467b",
   "metadata": {},
   "outputs": [
    {
     "data": {
      "text/plain": [
       "tensor([[0.4032, 0.0995, 0.9925, 0.6339]])"
      ]
     },
     "execution_count": 11,
     "metadata": {},
     "output_type": "execute_result"
    }
   ],
   "source": [
    "s.view(1,4)"
   ]
  },
  {
   "cell_type": "code",
   "execution_count": 12,
   "id": "644a489f-e6b4-4248-a140-d59dc022a6a5",
   "metadata": {},
   "outputs": [
    {
     "data": {
      "text/plain": [
       "tensor([[0.4032],\n",
       "        [0.0995],\n",
       "        [0.9925],\n",
       "        [0.6339]])"
      ]
     },
     "execution_count": 12,
     "metadata": {},
     "output_type": "execute_result"
    }
   ],
   "source": [
    "s.view(4,1)"
   ]
  },
  {
   "cell_type": "code",
   "execution_count": 46,
   "id": "7bdf500a-823c-4b52-9c9c-6d551979a02b",
   "metadata": {},
   "outputs": [
    {
     "data": {
      "text/plain": [
       "tensor([[0.0356, 0.5985, 0.4540, 0.9145],\n",
       "        [0.0778, 0.2131, 0.3330, 0.5365],\n",
       "        [0.3576, 0.1621, 0.4083, 0.1403],\n",
       "        [0.7701, 0.5402, 0.0233, 0.7206],\n",
       "        [0.1324, 0.3397, 0.7052, 0.6969],\n",
       "        [0.3621, 0.6598, 0.1375, 0.5587]])"
      ]
     },
     "execution_count": 46,
     "metadata": {},
     "output_type": "execute_result"
    }
   ],
   "source": [
    "t.rand(4,3,2).reshape(6,4)"
   ]
  },
  {
   "cell_type": "code",
   "execution_count": 55,
   "id": "78d22f67-0ba8-49ab-a481-e1b2e3dd1634",
   "metadata": {},
   "outputs": [
    {
     "data": {
      "text/plain": [
       "(6, 2, 1)"
      ]
     },
     "execution_count": 55,
     "metadata": {},
     "output_type": "execute_result"
    }
   ],
   "source": [
    "sd = t.rand(4,3,2)\n",
    "sd.stride()"
   ]
  },
  {
   "cell_type": "code",
   "execution_count": 51,
   "id": "ba0a8717-3d8d-4f44-9fd3-3ba06e5c39d8",
   "metadata": {},
   "outputs": [
    {
     "data": {
      "text/plain": [
       "tensor([[[[0.8823, 0.6380],\n",
       "          [0.1402, 0.4532]],\n",
       "\n",
       "         [[0.9708, 0.8675],\n",
       "          [0.7901, 0.0142]]],\n",
       "\n",
       "\n",
       "        [[[0.5817, 0.1336],\n",
       "          [0.5186, 0.8799]],\n",
       "\n",
       "         [[0.0984, 0.3387],\n",
       "          [0.2320, 0.0304]]],\n",
       "\n",
       "\n",
       "        [[[0.0882, 0.5168],\n",
       "          [0.1778, 0.3615]],\n",
       "\n",
       "         [[0.7555, 0.3755],\n",
       "          [0.4596, 0.3820]]]])"
      ]
     },
     "execution_count": 51,
     "metadata": {},
     "output_type": "execute_result"
    }
   ],
   "source": [
    "sd.reshape(3,2,2,2)"
   ]
  },
  {
   "cell_type": "code",
   "execution_count": 54,
   "id": "fd9f3a81-a4b5-4bae-8228-49dc859377c9",
   "metadata": {},
   "outputs": [
    {
     "data": {
      "text/plain": [
       "(8, 4, 2, 1)"
      ]
     },
     "execution_count": 54,
     "metadata": {},
     "output_type": "execute_result"
    }
   ],
   "source": [
    "sd.view(3,2,2,2).stride()"
   ]
  },
  {
   "cell_type": "code",
   "execution_count": 57,
   "id": "1f8f81ec-7c07-4863-abe5-25eda8c1e744",
   "metadata": {},
   "outputs": [
    {
     "data": {
      "text/plain": [
       "tensor([[0.6518],\n",
       "        [0.0187],\n",
       "        [0.1419],\n",
       "        [0.4129]])"
      ]
     },
     "execution_count": 57,
     "metadata": {},
     "output_type": "execute_result"
    }
   ],
   "source": [
    "t.rand(1,4).view(4,1)"
   ]
  },
  {
   "cell_type": "code",
   "execution_count": null,
   "id": "45d99db7-d8f6-4d34-956e-1e55bff1aecb",
   "metadata": {},
   "outputs": [],
   "source": []
  }
 ],
 "metadata": {
  "kernelspec": {
   "display_name": "Python 3 (ipykernel)",
   "language": "python",
   "name": "python3"
  },
  "language_info": {
   "codemirror_mode": {
    "name": "ipython",
    "version": 3
   },
   "file_extension": ".py",
   "mimetype": "text/x-python",
   "name": "python",
   "nbconvert_exporter": "python",
   "pygments_lexer": "ipython3",
   "version": "3.12.3"
  }
 },
 "nbformat": 4,
 "nbformat_minor": 5
}
