{
 "cells": [
  {
   "cell_type": "code",
   "execution_count": 1,
   "id": "0aa20631-6bd5-49c0-afe0-074b1a936322",
   "metadata": {},
   "outputs": [],
   "source": [
    "import numpy as np\n",
    "import torch as t\n",
    "import torch_geometric as pyg\n",
    "import networkx as nx\n",
    "from matplotlib import pyplot as plt"
   ]
  },
  {
   "cell_type": "code",
   "execution_count": 44,
   "id": "35c04c2b-74bf-4227-bf55-e4a6c7ece94f",
   "metadata": {},
   "outputs": [],
   "source": [
    "cora = pyg.datasets.planetoid.Planetoid('./data', name=\"cora\")"
   ]
  },
  {
   "cell_type": "code",
   "execution_count": 45,
   "id": "3efa9698-8918-45cb-941b-3e3cd05bb596",
   "metadata": {},
   "outputs": [
    {
     "name": "stdout",
     "output_type": "stream",
     "text": [
      "tensor([[ 633, 1862, 2582,  ...,  598, 1473, 2706],\n",
      "        [   0,    0,    0,  ..., 2707, 2707, 2707]])\n"
     ]
    }
   ],
   "source": [
    "print(cora.edge_index)"
   ]
  },
  {
   "cell_type": "code",
   "execution_count": 46,
   "id": "ad83ec23-8846-4569-9090-b335ea2ed81f",
   "metadata": {},
   "outputs": [
    {
     "data": {
      "text/plain": [
       "(array([  355,  2999,  7819, ..., 10448,  6552,  9315]),\n",
       " array([5776, 4245, 9093, ...,  993, 7561, 4906]))"
      ]
     },
     "execution_count": 46,
     "metadata": {},
     "output_type": "execute_result"
    }
   ],
   "source": [
    "n_edges = np.array(range(cora.edge_index.shape[1]))\n",
    "n_edges = np.random.permutation(n_edges)\n",
    "\n",
    "limit = int(len(n_edges)*0.8)\n",
    "train = n_edges[:limit]\n",
    "test = n_edges[limit:]\n",
    "\n",
    "train, test"
   ]
  },
  {
   "cell_type": "code",
   "execution_count": 47,
   "id": "222b076d-271d-416c-9cbd-bfc6cef5deb8",
   "metadata": {},
   "outputs": [
    {
     "name": "stdout",
     "output_type": "stream",
     "text": [
      "tensor([[-1.,  0.,  0.,  ...,  0.,  0.,  0.],\n",
      "        [ 0., -1.,  1.,  ...,  0.,  0.,  0.],\n",
      "        [ 0.,  1., -1.,  ...,  0.,  0.,  0.],\n",
      "        ...,\n",
      "        [ 0.,  0.,  0.,  ..., -1.,  0.,  0.],\n",
      "        [ 0.,  0.,  0.,  ...,  0., -1.,  1.],\n",
      "        [ 0.,  0.,  0.,  ...,  0.,  1., -1.]], dtype=torch.float64)\n"
     ]
    },
    {
     "name": "stderr",
     "output_type": "stream",
     "text": [
      "C:\\Users\\XPD\\AppData\\Local\\Temp\\ipykernel_15468\\3158052384.py:2: DeprecationWarning: __array_wrap__ must accept context and return_scalar arguments (positionally) in the future. (Deprecated NumPy 2.0)\n",
      "  print(Adj -np.eye(Adj.shape[0]))\n",
      "C:\\Users\\XPD\\AppData\\Local\\Temp\\ipykernel_15468\\3158052384.py:3: DeprecationWarning: __array_wrap__ must accept context and return_scalar arguments (positionally) in the future. (Deprecated NumPy 2.0)\n",
      "  AdjProcessed = 1 - Adj - np.eye(Adj.shape[0])\n"
     ]
    }
   ],
   "source": [
    "Adj = pyg.utils.to_dense_adj(cora.edge_index)[0]\n",
    "print(Adj -np.eye(Adj.shape[0]))\n",
    "AdjProcessed = 1 - Adj - np.eye(Adj.shape[0])\n",
    "neg_u, neg_v = np.where(AdjProcessed != 0)"
   ]
  },
  {
   "cell_type": "code",
   "execution_count": 50,
   "id": "45755b25-4853-418b-8541-c4ea6a8e9d5b",
   "metadata": {},
   "outputs": [
    {
     "name": "stdout",
     "output_type": "stream",
     "text": [
      "[1852  803 1260  818 2636  444 1729 1153 1477  524] [2143  967  427   39  621 2107  991  349 2242 1988]\n",
      "[1806 1131  444 1073  287 2690 1320 2567 2442 2147] [1926   72 1196  610 2457 2003 2214  889 1501  807]\n"
     ]
    }
   ],
   "source": [
    "neg_ids = np.random.choice(len(neg_u), len(n_edges))\n",
    "train_neg_u = neg_u[neg_ids[:limit]]\n",
    "train_neg_v = neg_v[neg_ids[:limit]]\n",
    "print(train_neg_u[:10], train_neg_v[:10])\n",
    "test_neg_u = neg_u[neg_ids[limit:]]\n",
    "test_neg_v = neg_v[neg_ids[limit:]]\n",
    "\n",
    "print(test_neg_u[:10], test_neg_v[:10])"
   ]
  },
  {
   "cell_type": "code",
   "execution_count": 70,
   "id": "08a6893f-1905-4376-8063-7cc27222d55e",
   "metadata": {},
   "outputs": [
    {
     "data": {
      "text/plain": [
       "tensor([[1658, 2093, 2388,  ..., 2666, 2034, 1138],\n",
       "        [  88,  741, 1914,  ..., 2665, 1654, 2250]])"
      ]
     },
     "execution_count": 70,
     "metadata": {},
     "output_type": "execute_result"
    }
   ],
   "source": [
    "train_cora = t.stack([\n",
    "    cora.edge_index[0][train],\n",
    "    cora.edge_index[1][train]\n",
    "])\n",
    "train_cora"
   ]
  },
  {
   "cell_type": "code",
   "execution_count": 75,
   "id": "ec9acc2d-e6bd-4f61-b1f4-667556860893",
   "metadata": {},
   "outputs": [],
   "source": [
    "class Net(t.nn.Module):\n",
    "    def __init__(self, insize, outsize):\n",
    "        super(Net).__init__()\n",
    "        self.gsage1 = pyg.nn.SAGEConv(in_channels=insize, out_channels=outsize)        \n",
    "        self.gsage2 = pyg.nn.SAGEConv(in_channels=outsize, out_channels=outsize)\n",
    "        self.hsize = hsize\n",
    "        self.outsize = outsize\n",
    "\n",
    "    def forward(self, data):\n",
    "        x = data.x\n",
    "        edges = data.edge_index\n",
    "        h = self.gsage1(x, edges)\n",
    "        h = t.nn.functional.leaky_relu(h)\n",
    "        h = self.gsage2(h, edges)\n",
    "        return h        "
   ]
  },
  {
   "cell_type": "code",
   "execution_count": 97,
   "id": "33538e25-efea-4aba-abb3-60460d383755",
   "metadata": {},
   "outputs": [
    {
     "name": "stdout",
     "output_type": "stream",
     "text": [
      "tensor([[1658, 2093, 2388,  ..., 2666, 2034, 1138],\n",
      "        [  88,  741, 1914,  ..., 2665, 1654, 2250]]) tensor([[1852,  803, 1260,  ..., 1311, 2321, 1878],\n",
      "        [2143,  967,  427,  ..., 1945, 1282, 1319]]) tensor([[1537,  982,  964,  ..., 1274, 1701,  505],\n",
      "        [1455, 1091, 2198,  ...,  239, 1859, 1258]]) tensor([[1537,  982,  964,  ..., 1274, 1701,  505],\n",
      "        [1455, 1091, 2198,  ...,  239, 1859, 1258]])\n"
     ]
    }
   ],
   "source": [
    "train_pos = t.stack([cora.edge_index[0][train], cora.edge_index[1][train]])\n",
    "train_neg = t.stack([t.tensor(train_neg_u), t.tensor(train_neg_v)])\n",
    "\n",
    "test_pos = t.stack([cora.edge_index[0][test], cora.edge_index[1][test]])\n",
    "test_neg = t.stack([t.tensor(test_neg_u), t.tensor(test_neg_v)])\n",
    "\n",
    "print(train_pos[:10], train_neg[:10], test_pos[:10], test_pos[:10])"
   ]
  },
  {
   "cell_type": "code",
   "execution_count": null,
   "id": "9e369d40-bbf7-4c6f-90db-fc411e8b533f",
   "metadata": {},
   "outputs": [],
   "source": []
  }
 ],
 "metadata": {
  "kernelspec": {
   "display_name": "Python 3 (ipykernel)",
   "language": "python",
   "name": "python3"
  },
  "language_info": {
   "codemirror_mode": {
    "name": "ipython",
    "version": 3
   },
   "file_extension": ".py",
   "mimetype": "text/x-python",
   "name": "python",
   "nbconvert_exporter": "python",
   "pygments_lexer": "ipython3",
   "version": "3.12.3"
  }
 },
 "nbformat": 4,
 "nbformat_minor": 5
}
