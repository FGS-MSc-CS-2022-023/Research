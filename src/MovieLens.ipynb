{
 "cells": [
  {
   "cell_type": "code",
   "execution_count": 1,
   "id": "45c210cb-4069-4010-9221-eec4c18a2db0",
   "metadata": {},
   "outputs": [],
   "source": [
    "import numpy as np\n",
    "import torch as t\n",
    "import torch_geometric as pyg\n",
    "\n",
    "import networkx as nx\n",
    "from matplotlib import pyplot as plt\n",
    "import pygraphviz"
   ]
  },
  {
   "cell_type": "code",
   "execution_count": 2,
   "id": "85bcbd54-a4f6-4757-865f-45ae5b337fcf",
   "metadata": {},
   "outputs": [],
   "source": [
    "movieLens = pyg.datasets.movie_lens.MovieLens('./data')"
   ]
  },
  {
   "cell_type": "code",
   "execution_count": 3,
   "id": "b4d5f230-8a8e-4ff3-b4fc-eec96e835136",
   "metadata": {},
   "outputs": [
    {
     "data": {
      "text/plain": [
       "HeteroData(\n",
       "  movie={ x=[9742, 404] },\n",
       "  user={ num_nodes=610 },\n",
       "  (user, rates, movie)={\n",
       "    edge_index=[2, 100836],\n",
       "    edge_label=[100836],\n",
       "    time=[100836],\n",
       "  }\n",
       ")"
      ]
     },
     "execution_count": 3,
     "metadata": {},
     "output_type": "execute_result"
    }
   ],
   "source": [
    "movieLens[0]"
   ]
  },
  {
   "cell_type": "code",
   "execution_count": 4,
   "id": "1ee09b35-0fa6-4053-96ca-aca274e819f8",
   "metadata": {},
   "outputs": [
    {
     "name": "stdout",
     "output_type": "stream",
     "text": [
      "DiGraph with 500 nodes and 228 edges\n"
     ]
    }
   ],
   "source": [
    "import uuid\n",
    "\n",
    "data = movieLens[0]\n",
    "a = pyg.utils.to_networkx(data)\n",
    "sub = a.subgraph(list(range(9500,10000  )))\n",
    "print(sub)\n",
    "A = nx.nx_agraph.to_agraph(sub)\n",
    "A.layout()  # neato layout\n",
    "A.draw(f\"{uuid.uuid4()}.png\")  # write postscript in k5.ps with neato layout"
   ]
  },
  {
   "cell_type": "code",
   "execution_count": 5,
   "id": "8c86a6c8-2b85-43c7-8d2d-3f3eff54dd44",
   "metadata": {},
   "outputs": [],
   "source": [
    "temp = data.edge_items()[0][1].edge_index"
   ]
  },
  {
   "cell_type": "code",
   "execution_count": 54,
   "id": "d48c96e2-d7b3-4a18-b2e3-a223b97f0ea7",
   "metadata": {},
   "outputs": [],
   "source": [
    "edges = data.edge_items()[0][1].edge_index"
   ]
  },
  {
   "cell_type": "code",
   "execution_count": 66,
   "id": "9b279f29-f826-4ac2-97e0-14175d0fb663",
   "metadata": {},
   "outputs": [
    {
     "data": {
      "text/plain": [
       "tensor([  9,  33,  40,  44,  55,  99, 118, 126, 134, 138, 144, 145, 153, 163,\n",
       "        193, 212, 311, 314, 333, 334, 337, 355, 364, 378, 385, 404, 422, 455,\n",
       "        461, 504, 506, 507, 509, 512, 546, 594])"
      ]
     },
     "execution_count": 66,
     "metadata": {},
     "output_type": "execute_result"
    }
   ],
   "source": [
    "edges[1][t.where(edges[0] == 242)]"
   ]
  },
  {
   "cell_type": "code",
   "execution_count": 63,
   "id": "05836cc8-8315-4e54-a170-befc36e84d94",
   "metadata": {},
   "outputs": [
    {
     "data": {
      "text/plain": [
       "tensor(46)"
      ]
     },
     "execution_count": 63,
     "metadata": {},
     "output_type": "execute_result"
    }
   ],
   "source": [
    "edges[1][28306]"
   ]
  },
  {
   "cell_type": "code",
   "execution_count": null,
   "id": "3b223cd4-880c-4909-a18b-79a6a3e4478f",
   "metadata": {},
   "outputs": [],
   "source": []
  }
 ],
 "metadata": {
  "kernelspec": {
   "display_name": "Python 3 (ipykernel)",
   "language": "python",
   "name": "python3"
  },
  "language_info": {
   "codemirror_mode": {
    "name": "ipython",
    "version": 3
   },
   "file_extension": ".py",
   "mimetype": "text/x-python",
   "name": "python",
   "nbconvert_exporter": "python",
   "pygments_lexer": "ipython3",
   "version": "3.12.3"
  }
 },
 "nbformat": 4,
 "nbformat_minor": 5
}
