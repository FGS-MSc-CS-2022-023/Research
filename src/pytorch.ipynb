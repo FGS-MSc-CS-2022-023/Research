{
 "cells": [
  {
   "cell_type": "code",
   "execution_count": 1,
   "id": "172a4a1d-85ed-4e13-822d-db0d82cda781",
   "metadata": {},
   "outputs": [],
   "source": [
    "import numpy as np\n",
    "import torch"
   ]
  },
  {
   "cell_type": "code",
   "execution_count": 2,
   "id": "0cf735f3-b342-4138-9b98-477c66abd59c",
   "metadata": {},
   "outputs": [],
   "source": [
    "import networkx as nx\n",
    "from matplotlib import pyplot as plt\n",
    "import math\n",
    "from sympy import Matrix, init_printing\n",
    "import IPython.display\n",
    "init_printing()"
   ]
  },
  {
   "cell_type": "code",
   "execution_count": 45,
   "id": "be996268-6a4f-4b6a-ade1-d42951c5b04c",
   "metadata": {},
   "outputs": [],
   "source": [
    "G = nx.Graph()"
   ]
  },
  {
   "cell_type": "code",
   "execution_count": 58,
   "id": "53d6dc7b-4cdd-459c-9170-b30f71108461",
   "metadata": {},
   "outputs": [],
   "source": [
    "G.add_node(torch.tensor([1,2,3]))\n",
    "G.add_nodes_from([2,3])"
   ]
  },
  {
   "cell_type": "code",
   "execution_count": 59,
   "id": "b29cccf9-6787-4195-ade3-bc8f60a5fee1",
   "metadata": {},
   "outputs": [
    {
     "data": {
      "image/png": "[encoded data removed]",
      "text/plain": [
       "<Figure size 640x480 with 1 Axes>"
      ]
     },
     "metadata": {},
     "output_type": "display_data"
    }
   ],
   "source": [
    "s = plt.subplot()\n",
    "nx.draw_networkx(G)"
   ]
  },
  {
   "cell_type": "code",
   "execution_count": 40,
   "id": "f87f0826-bf47-44d3-85b6-037ca68bebe3",
   "metadata": {},
   "outputs": [
    {
     "name": "stdout",
     "output_type": "stream",
     "text": [
      "tensor([[0.7681, 0.9410],\n",
      "        [0.8474, 0.7504]])\n",
      "tensor([[5., 5.],\n",
      "        [5., 5.]])\n",
      "tensor([[5.7681, 5.9410],\n",
      "        [5.8474, 5.7504]])\n",
      "tensor([[0.7681, 0.9410],\n",
      "        [0.8474, 0.7504]])\n",
      "tensor([[5.7681, 5.9410],\n",
      "        [5.8474, 5.7504]])\n"
     ]
    }
   ],
   "source": [
    "x = torch.rand(2,2)\n",
    "y = torch.tensor([[5,5],[5,5]], dtype=torch.float)\n",
    "print(x)\n",
    "print(y)\n",
    "\n",
    "print(y.add_(x))\n",
    "print(x)\n",
    "print(y)\n",
    "\n"
   ]
  },
  {
   "cell_type": "code",
   "execution_count": 57,
   "id": "9ceec104-1059-4b76-b9a9-f84818b54639",
   "metadata": {},
   "outputs": [
    {
     "data": {
      "text/plain": [
       "tensor([[True, True],\n",
       "        [True, True]])"
      ]
     },
     "execution_count": 57,
     "metadata": {},
     "output_type": "execute_result"
    }
   ],
   "source": [
    "x = torch.tensor([[1,2],[3,4]], dtype=torch.float)\n",
    "y = x.sub(torch.eye(2))\n",
    "y + torch.eye(2) == x"
   ]
  },
  {
   "cell_type": "code",
   "execution_count": 58,
   "id": "9c8b6450-9f90-4c9d-9bdc-39ba9af856e5",
   "metadata": {},
   "outputs": [
    {
     "data": {
      "text/plain": [
       "tensor([[0.5000, 1.0000],\n",
       "        [1.5000, 2.0000]])"
      ]
     },
     "execution_count": 58,
     "metadata": {},
     "output_type": "execute_result"
    }
   ],
   "source": [
    "x = torch.tensor([[1,2],[3,4]], dtype=torch.float)\n",
    "x/2"
   ]
  },
  {
   "cell_type": "code",
   "execution_count": 65,
   "id": "0ff07ee2-f635-4ee1-a3c7-df36e5a7eea4",
   "metadata": {},
   "outputs": [
    {
     "data": {
      "text/plain": [
       "tensor([[0.9191, 0.6612, 0.1066, 0.1755],\n",
       "        [0.8340, 0.9257, 0.6597, 0.1201],\n",
       "        [0.6774, 0.4046, 0.0075, 0.5162],\n",
       "        [0.8771, 0.9602, 0.2541, 0.7050],\n",
       "        [0.5736, 0.5782, 0.7411, 0.0398]])"
      ]
     },
     "execution_count": 65,
     "metadata": {},
     "output_type": "execute_result"
    }
   ],
   "source": [
    "x = torch.rand(5,4)\n",
    "x"
   ]
  },
  {
   "cell_type": "code",
   "execution_count": 124,
   "id": "98aae758-8634-459c-9dff-076c6d91a0c1",
   "metadata": {},
   "outputs": [
    {
     "name": "stdout",
     "output_type": "stream",
     "text": [
      "tensor([[0.9191, 0.6612, 0.1066, 0.1755],\n",
      "        [0.8340, 0.9257, 0.6597, 0.1201],\n",
      "        [0.6774, 0.4046, 0.0075, 0.5162],\n",
      "        [0.8771, 0.9602, 0.2541, 0.7050],\n",
      "        [0.5736, 0.5782, 0.7411, 0.0398]])\n",
      "tensor([[0.9191, 0.6612, 0.1066],\n",
      "        [0.8340, 0.9257, 0.6597],\n",
      "        [0.6774, 0.4046, 0.0075]])\n",
      "tensor([[0.9191, 0.8340, 0.6774],\n",
      "        [0.6612, 0.9257, 0.4046],\n",
      "        [0.1066, 0.6597, 0.0075]])\n",
      "tensor([[8.4483e-01, 5.5145e-01, 7.2191e-02],\n",
      "        [5.5145e-01, 8.5684e-01, 2.6689e-01],\n",
      "        [7.2191e-02, 2.6689e-01, 5.6741e-05]])\n"
     ]
    }
   ],
   "source": [
    "print(x)\n",
    "y = x[:3,0:3]\n",
    "print(y)\n",
    "print(y.transpose_(1,0))\n",
    "print(y * y.transpose(1,0))"
   ]
  },
  {
   "cell_type": "code",
   "execution_count": 109,
   "id": "341602c5-9cbf-4d7b-8f0b-5b307b6bacc6",
   "metadata": {},
   "outputs": [
    {
     "data": {
      "text/plain": [
       "array([ True,  True,  True])"
      ]
     },
     "execution_count": 109,
     "metadata": {},
     "output_type": "execute_result"
    }
   ],
   "source": [
    "a = np.array([2,2,4])\n",
    "a == a.transpose()"
   ]
  },
  {
   "cell_type": "code",
   "execution_count": 22,
   "id": "7895aa58-873b-4469-b413-ccd7dddf9ffb",
   "metadata": {},
   "outputs": [
    {
     "data": {
      "text/plain": [
       "tensor([[[[0.1445, 0.2431, 0.5869, 0.2361],\n",
       "          [0.1389, 0.1499, 0.1647, 0.6115],\n",
       "          [0.7667, 0.0087, 0.7664, 0.8440]],\n",
       "\n",
       "         [[0.3534, 0.6604, 0.4886, 0.1061],\n",
       "          [0.1377, 0.4756, 0.3833, 0.9773],\n",
       "          [0.7963, 0.6737, 0.6734, 0.1992]]]])"
      ]
     },
     "execution_count": 22,
     "metadata": {},
     "output_type": "execute_result"
    }
   ],
   "source": [
    "x = torch.rand(1,2,3,4)\n",
    "x"
   ]
  },
  {
   "cell_type": "code",
   "execution_count": 30,
   "id": "decf334c-8571-4c23-ac8d-1644f9f2be53",
   "metadata": {},
   "outputs": [
    {
     "data": {
      "text/plain": [
       "tensor([[[[2.0000, 0.2431, 0.5869, 0.2361],\n",
       "          [0.1389, 0.1499, 0.1647, 0.6115]],\n",
       "\n",
       "         [[0.7667, 0.0087, 0.7664, 0.8440],\n",
       "          [0.3534, 0.6604, 0.4886, 0.1061]],\n",
       "\n",
       "         [[0.1377, 0.4756, 0.3833, 0.9773],\n",
       "          [0.7963, 0.6737, 0.6734, 0.1992]]]])"
      ]
     },
     "execution_count": 30,
     "metadata": {},
     "output_type": "execute_result"
    }
   ],
   "source": [
    "y = x.view(1,3,2,4)\n",
    "y"
   ]
  },
  {
   "cell_type": "code",
   "execution_count": 63,
   "id": "da50a635-cac2-4180-8e30-923b32289cb5",
   "metadata": {},
   "outputs": [
    {
     "data": {
      "text/plain": [
       "tensor([1.], dtype=torch.float64, requires_grad=True)"
      ]
     },
     "execution_count": 63,
     "metadata": {},
     "output_type": "execute_result"
    }
   ],
   "source": [
    "x= torch.tensor([1], requires_grad=True, dtype=float)\n",
    "x"
   ]
  },
  {
   "cell_type": "code",
   "execution_count": 64,
   "id": "17a9bcfd-5696-46d8-ad25-0076c7ba16de",
   "metadata": {},
   "outputs": [
    {
     "data": {
      "text/plain": [
       "tensor([35.], dtype=torch.float64, grad_fn=<AddBackward0>)"
      ]
     },
     "execution_count": 64,
     "metadata": {},
     "output_type": "execute_result"
    }
   ],
   "source": [
    "y = x + 34\n",
    "y"
   ]
  },
  {
   "cell_type": "code",
   "execution_count": 65,
   "id": "e7d4f109-123c-4c31-b5f9-eb11e0290422",
   "metadata": {},
   "outputs": [],
   "source": [
    "y.backward()"
   ]
  },
  {
   "cell_type": "code",
   "execution_count": 66,
   "id": "35d68125-da6e-4ded-be01-d6962e7ecac6",
   "metadata": {},
   "outputs": [
    {
     "data": {
      "text/plain": [
       "tensor([1.], dtype=torch.float64)"
      ]
     },
     "execution_count": 66,
     "metadata": {},
     "output_type": "execute_result"
    }
   ],
   "source": [
    "x.grad"
   ]
  },
  {
   "cell_type": "markdown",
   "id": "325a87bd-d226-4908-848c-c178f7567059",
   "metadata": {},
   "source": [
    "## From blog post\n",
    "\n",
    "[Chain rule and Jacobian](https://heiner.ai/blog/2023/02/19/chain-rule-jacobians-autograd-shapes.html)"
   ]
  },
  {
   "cell_type": "code",
   "execution_count": 23,
   "id": "f61e3a53-a058-4240-9ddc-76678bb13a22",
   "metadata": {},
   "outputs": [
    {
     "data": {
      "text/plain": [
       "tensor([1., 2.], dtype=torch.float64, requires_grad=True)"
      ]
     },
     "execution_count": 23,
     "metadata": {},
     "output_type": "execute_result"
    }
   ],
   "source": [
    "X = torch.tensor([1,2], dtype=float, requires_grad=True)\n",
    "X"
   ]
  },
  {
   "cell_type": "code",
   "execution_count": 26,
   "id": "42c21feb-271c-4570-bbb5-8a5dac306c71",
   "metadata": {},
   "outputs": [
    {
     "data": {
      "text/plain": [
       "tensor([2., 5., 6.], grad_fn=<CopySlices>)"
      ]
     },
     "execution_count": 26,
     "metadata": {},
     "output_type": "execute_result"
    }
   ],
   "source": [
    "Y = torch.empty(3)\n",
    "Y[0] = X[0] * 2\n",
    "Y[1] = X[0] + 2*X[1]\n",
    "Y[2] = X[1] * 3\n",
    "Y"
   ]
  },
  {
   "cell_type": "code",
   "execution_count": 27,
   "id": "94c39e9b-bccc-4287-978a-325b30ddb39e",
   "metadata": {
    "scrolled": true
   },
   "outputs": [],
   "source": [
    "Y.backward(torch.tensor([1,2,6], dtype=float))"
   ]
  },
  {
   "cell_type": "code",
   "execution_count": 20,
   "id": "c35646c3-08ab-4621-9d47-366feac78117",
   "metadata": {},
   "outputs": [
    {
     "name": "stdout",
     "output_type": "stream",
     "text": [
      "tensor([ 6., 70.], dtype=torch.float64)\n"
     ]
    }
   ],
   "source": [
    "x = torch.tensor([1.0, 2.0], requires_grad=True, dtype=float)\n",
    "\n",
    "y = torch.empty(3)\n",
    "y[0] = x[0] ** 2\n",
    "y[1] = x[0] ** 2 + 5 * x[1] ** 2\n",
    "y[2] = 3 * x[1]\n",
    "\n",
    "v = torch.tensor([1.0, 2.0, 10.0])\n",
    "y.backward(v)  # VJP.\n",
    "print(x.grad)"
   ]
  },
  {
   "cell_type": "code",
   "execution_count": 16,
   "id": "969ba431-054d-4d14-9422-bfb785ae1dd9",
   "metadata": {},
   "outputs": [
    {
     "data": {
      "text/plain": [
       "tensor([ 1., 21.,  6.], grad_fn=<CopySlices>)"
      ]
     },
     "execution_count": 16,
     "metadata": {},
     "output_type": "execute_result"
    }
   ],
   "source": [
    "y"
   ]
  },
  {
   "cell_type": "code",
   "execution_count": 28,
   "id": "0f4cb27c-e3fd-4318-ac1b-7a21d01daeb7",
   "metadata": {},
   "outputs": [
    {
     "data": {
      "text/plain": [
       "tensor([ 4., 22.], dtype=torch.float64)"
      ]
     },
     "execution_count": 28,
     "metadata": {},
     "output_type": "execute_result"
    }
   ],
   "source": [
    "X.grad"
   ]
  },
  {
   "cell_type": "markdown",
   "id": "9e947079-6c39-40d0-b29e-1ffa3337d32d",
   "metadata": {},
   "source": [
    "Single Variable Function $ y = f(x) $"
   ]
  },
  {
   "cell_type": "code",
   "execution_count": 58,
   "id": "558acaeb-9e15-4c90-83bf-8d6a2a7eb4f2",
   "metadata": {},
   "outputs": [
    {
     "name": "stdout",
     "output_type": "stream",
     "text": [
      "None\n",
      "tensor(0.0500, grad_fn=<MulBackward0>)\n"
     ]
    },
    {
     "data": {
      "text/plain": [
       "tensor(-0.0025)"
      ]
     },
     "execution_count": 58,
     "metadata": {},
     "output_type": "execute_result"
    }
   ],
   "source": [
    "X = torch.tensor(20.0, requires_grad=True)\n",
    "print(X.grad)\n",
    "Y = 1/X\n",
    "print(Y)\n",
    "Y.backward()\n",
    "X.grad"
   ]
  },
  {
   "cell_type": "markdown",
   "id": "88b056eb-f207-4430-8c23-b70837ed131b",
   "metadata": {},
   "source": [
    "MultiVariable Function $ y_n = f(x_m) $"
   ]
  },
  {
   "cell_type": "code",
   "execution_count": 102,
   "id": "1a51f17b-a407-4c85-9b19-dbf9f52f26a2",
   "metadata": {},
   "outputs": [
    {
     "data": {
      "text/plain": [
       "tensor([1., 2.], requires_grad=True)"
      ]
     },
     "execution_count": 102,
     "metadata": {},
     "output_type": "execute_result"
    }
   ],
   "source": [
    "X = torch.tensor([1.0, 2.0], requires_grad=True)\n",
    "X"
   ]
  },
  {
   "cell_type": "code",
   "execution_count": 103,
   "id": "fd888360-d98c-4498-82b7-29b73b344ee1",
   "metadata": {},
   "outputs": [
    {
     "data": {
      "text/plain": [
       "tensor([ 5.0000, 24.1807])"
      ]
     },
     "execution_count": 103,
     "metadata": {},
     "output_type": "execute_result"
    }
   ],
   "source": [
    "Y = torch.empty(3)\n",
    "Y[0] = 2 * X[0]\n",
    "Y[1] = 3 * X[0] + 2 * X[1]\n",
    "Y[2] = 4 ** X[1]\n",
    "Y.backward(torch.ones(3))\n",
    "X.grad"
   ]
  },
  {
   "cell_type": "code",
   "execution_count": 105,
   "id": "22781e89-441d-4934-9e59-8f79e8687d48",
   "metadata": {},
   "outputs": [
    {
     "name": "stdout",
     "output_type": "stream",
     "text": [
      "y: tensor([ 1., 21.,  6.], grad_fn=<CopySlices>)\n",
      "x.grad: tensor([ 6., 49.])\n",
      "tensor([ 6., 49.])\n",
      "tensor([ 6., 49.])\n"
     ]
    }
   ],
   "source": [
    "x = torch.tensor([1.0, 2.0], requires_grad=True)\n",
    "\n",
    "y = torch.empty(3)\n",
    "y[0] = x[0] ** 2\n",
    "y[1] = x[0] ** 2 + 5 * x[1] ** 2\n",
    "y[2] = 3 * x[1]\n",
    "\n",
    "v = torch.tensor([1.0, 2.0, 3.0])\n",
    "y.backward(v)  # VJP.\n",
    "\n",
    "print(\"y:\", y)\n",
    "print(\"x.grad:\", x.grad)\n",
    "\n",
    "# Manual computation.\n",
    "dydx = torch.tensor(\n",
    "    [\n",
    "        [2 * x[0], 0],\n",
    "        [2 * x[0], 10 * x[1]],\n",
    "        [0, 3],\n",
    "    ]\n",
    ")\n",
    "\n",
    "assert torch.equal(x.grad, v @ dydx)\n",
    "print(x.grad)\n",
    "print(v @ dydx)"
   ]
  },
  {
   "cell_type": "code",
   "execution_count": 112,
   "id": "06487fc5-f26c-4473-a6d2-167a074817af",
   "metadata": {},
   "outputs": [
    {
     "name": "stdout",
     "output_type": "stream",
     "text": [
      "tensor([3., 4.])\n"
     ]
    },
    {
     "data": {
      "text/plain": [
       "tensor([1., 2.], requires_grad=True)"
      ]
     },
     "execution_count": 112,
     "metadata": {},
     "output_type": "execute_result"
    }
   ],
   "source": [
    "with torch.no_grad():\n",
    "    print(x+2)\n",
    "x"
   ]
  },
  {
   "cell_type": "markdown",
   "id": "b172e10a-885a-48ec-8710-541789a2fcb3",
   "metadata": {},
   "source": [
    "## Loss function"
   ]
  },
  {
   "cell_type": "code",
   "execution_count": 102,
   "id": "2760ea70-2be7-4275-963d-7874e2749a99",
   "metadata": {},
   "outputs": [],
   "source": [
    "X = np.array([1.0, 2.0, 3.0, 4.0])\n",
    "Y = np.array([2.0, 4.0, 6.0, 8.0])"
   ]
  },
  {
   "cell_type": "code",
   "execution_count": 103,
   "id": "3f6d4916-047b-4786-b89a-750a511b6dbb",
   "metadata": {},
   "outputs": [],
   "source": [
    "w = 0.0"
   ]
  },
  {
   "cell_type": "code",
   "execution_count": 104,
   "id": "76c41042-d778-4ce3-aaee-ba5414876817",
   "metadata": {},
   "outputs": [],
   "source": [
    "def forward(x):\n",
    "    return w * x"
   ]
  },
  {
   "cell_type": "code",
   "execution_count": 105,
   "id": "0b1bf125-117c-40ea-a8e0-d59a2c8a7817",
   "metadata": {},
   "outputs": [],
   "source": [
    "def loss(y, y_pred):\n",
    "    return ((y_pred-y)**2).mean()"
   ]
  },
  {
   "cell_type": "markdown",
   "id": "c5c0e738-fa4e-4195-a8a2-33bb6b974f75",
   "metadata": {},
   "source": [
    "Gradient\n",
    "\n",
    "$ \\hat{Y} = \\frac{1}{N}*(wx - y)^2 $\n",
    "\n",
    "$ \\frac{d \\hat{Y}}{d x} = \\frac{1}{N} * 2x(wx-y) $"
   ]
  },
  {
   "cell_type": "code",
   "execution_count": 106,
   "id": "9204ce47-e741-4826-a84f-6f576b51b876",
   "metadata": {},
   "outputs": [],
   "source": [
    "def grad(x, y, y_pred):\n",
    "    ys=  2 * (x*(y_pred - y))\n",
    "    print(ys)\n",
    "    return ys.mean()\n",
    "        "
   ]
  },
  {
   "cell_type": "code",
   "execution_count": 107,
   "id": "86da5950-6e9a-411a-9b8c-d022e050314c",
   "metadata": {},
   "outputs": [
    {
     "data": {
      "image/png": "[encoded data removed]",
      "text/latex": [
       "$\\displaystyle 2.0$"
      ],
      "text/plain": [
       "np.float64(2.0)"
      ]
     },
     "execution_count": 107,
     "metadata": {},
     "output_type": "execute_result"
    }
   ],
   "source": [
    "np.array([1,2,3]).mean()"
   ]
  },
  {
   "cell_type": "code",
   "execution_count": 108,
   "id": "f54c62b1-d4e8-442a-b8c3-e6d5fbc187d0",
   "metadata": {},
   "outputs": [
    {
     "data": {
      "text/plain": [
       "array([[14, 12],\n",
       "       [14, 12]])"
      ]
     },
     "execution_count": 108,
     "metadata": {},
     "output_type": "execute_result"
    }
   ],
   "source": [
    "np.dot(np.array([[1,2,3],[1,2,3]]), np.array([[1,2,3],[2,2,2]]).T)"
   ]
  },
  {
   "cell_type": "code",
   "execution_count": 109,
   "id": "531e0787-17d4-47a4-856e-584ef713d43c",
   "metadata": {},
   "outputs": [
    {
     "data": {
      "text/plain": [
       "array([[14, 12],\n",
       "       [14, 12]])"
      ]
     },
     "execution_count": 109,
     "metadata": {},
     "output_type": "execute_result"
    }
   ],
   "source": [
    "\n",
    "np.array([[1,2,3],[1,2,3]]) @ np.array([[1,2,3],[2,2,2]]).T"
   ]
  },
  {
   "cell_type": "code",
   "execution_count": 110,
   "id": "b5c0d29b-f8bb-4992-9045-4013124d0f85",
   "metadata": {},
   "outputs": [
    {
     "data": {
      "image/png": "[encoded data removed]",
      "text/latex": [
       "$\\displaystyle \\left( 2, \\  3\\right)$"
      ],
      "text/plain": [
       "(2, 3)"
      ]
     },
     "execution_count": 110,
     "metadata": {},
     "output_type": "execute_result"
    }
   ],
   "source": [
    "np.array([[1,2,3],[1,2,3]]).shape"
   ]
  },
  {
   "cell_type": "code",
   "execution_count": 111,
   "id": "2aee6703-93c4-4330-8719-d1f381aafce9",
   "metadata": {
    "scrolled": true
   },
   "outputs": [
    {
     "name": "stdout",
     "output_type": "stream",
     "text": [
      "a [[[ 9.  8.]\n",
      "  [ 2. 10.]\n",
      "  [ 5.  3.]]\n",
      "\n",
      " [[ 2.  3.]\n",
      "  [ 2.  3.]\n",
      "  [ 9.  6.]]\n",
      "\n",
      " [[ 2.  4.]\n",
      "  [ 7.  9.]\n",
      "  [ 3. 10.]]\n",
      "\n",
      " [[ 9.  8.]\n",
      "  [ 9.  6.]\n",
      "  [ 9.  3.]]\n",
      "\n",
      " [[10.  1.]\n",
      "  [ 7.  5.]\n",
      "  [ 4.  6.]]]\n",
      "b [[[ 4.  6.  0.  5.]\n",
      "  [ 1.  5.  6.  1.]]\n",
      "\n",
      " [[ 3.  2.  3. 10.]\n",
      "  [ 8. 10.  9. 10.]]\n",
      "\n",
      " [[ 3.  9.  4.  6.]\n",
      "  [ 1.  6.  2.  8.]]\n",
      "\n",
      " [[ 1.  2.  6.  3.]\n",
      "  [ 8.  6.  8.  4.]]\n",
      "\n",
      " [[ 1.  1.  9.  3.]\n",
      "  [ 8.  4.  2.  1.]]]\n",
      "[[[[ 44.  94.  48.  53.]\n",
      "   [ 91.  98.  99. 170.]\n",
      "   [ 35. 129.  52. 118.]\n",
      "   [ 73.  66. 118.  59.]\n",
      "   [ 73.  41.  97.  35.]]\n",
      "\n",
      "  [[ 18.  62.  60.  20.]\n",
      "   [ 86. 104.  96. 120.]\n",
      "   [ 16.  78.  28.  92.]\n",
      "   [ 82.  64.  92.  46.]\n",
      "   [ 82.  42.  38.  16.]]\n",
      "\n",
      "  [[ 23.  45.  18.  28.]\n",
      "   [ 39.  40.  42.  80.]\n",
      "   [ 18.  63.  26.  54.]\n",
      "   [ 29.  28.  54.  27.]\n",
      "   [ 29.  17.  51.  18.]]]\n",
      "\n",
      "\n",
      " [[[ 11.  27.  18.  13.]\n",
      "   [ 30.  34.  33.  50.]\n",
      "   [  9.  36.  14.  36.]\n",
      "   [ 26.  22.  36.  18.]\n",
      "   [ 26.  14.  24.   9.]]\n",
      "\n",
      "  [[ 11.  27.  18.  13.]\n",
      "   [ 30.  34.  33.  50.]\n",
      "   [  9.  36.  14.  36.]\n",
      "   [ 26.  22.  36.  18.]\n",
      "   [ 26.  14.  24.   9.]]\n",
      "\n",
      "  [[ 42.  84.  36.  51.]\n",
      "   [ 75.  78.  81. 150.]\n",
      "   [ 33. 117.  48. 102.]\n",
      "   [ 57.  54. 102.  51.]\n",
      "   [ 57.  33.  93.  33.]]]\n",
      "\n",
      "\n",
      " [[[ 12.  32.  24.  14.]\n",
      "   [ 38.  44.  42.  60.]\n",
      "   [ 10.  42.  16.  44.]\n",
      "   [ 34.  28.  44.  22.]\n",
      "   [ 34.  18.  26.  10.]]\n",
      "\n",
      "  [[ 37.  87.  54.  44.]\n",
      "   [ 93. 104. 102. 160.]\n",
      "   [ 30. 117.  46. 114.]\n",
      "   [ 79.  68. 114.  57.]\n",
      "   [ 79.  43.  81.  30.]]\n",
      "\n",
      "  [[ 22.  68.  60.  25.]\n",
      "   [ 89. 106.  99. 130.]\n",
      "   [ 19.  87.  32.  98.]\n",
      "   [ 83.  66.  98.  49.]\n",
      "   [ 83.  43.  47.  19.]]]\n",
      "\n",
      "\n",
      " [[[ 44.  94.  48.  53.]\n",
      "   [ 91.  98.  99. 170.]\n",
      "   [ 35. 129.  52. 118.]\n",
      "   [ 73.  66. 118.  59.]\n",
      "   [ 73.  41.  97.  35.]]\n",
      "\n",
      "  [[ 42.  84.  36.  51.]\n",
      "   [ 75.  78.  81. 150.]\n",
      "   [ 33. 117.  48. 102.]\n",
      "   [ 57.  54. 102.  51.]\n",
      "   [ 57.  33.  93.  33.]]\n",
      "\n",
      "  [[ 39.  69.  18.  48.]\n",
      "   [ 51.  48.  54. 120.]\n",
      "   [ 30.  99.  42.  78.]\n",
      "   [ 33.  36.  78.  39.]\n",
      "   [ 33.  21.  87.  30.]]]\n",
      "\n",
      "\n",
      " [[[ 41.  65.   6.  51.]\n",
      "   [ 38.  30.  39. 110.]\n",
      "   [ 31.  96.  42.  68.]\n",
      "   [ 18.  26.  68.  34.]\n",
      "   [ 18.  14.  92.  31.]]\n",
      "\n",
      "  [[ 33.  67.  30.  40.]\n",
      "   [ 61.  64.  66. 120.]\n",
      "   [ 26.  93.  38.  82.]\n",
      "   [ 47.  44.  82.  41.]\n",
      "   [ 47.  27.  73.  26.]]\n",
      "\n",
      "  [[ 22.  54.  36.  26.]\n",
      "   [ 60.  68.  66. 100.]\n",
      "   [ 18.  72.  28.  72.]\n",
      "   [ 52.  44.  72.  36.]\n",
      "   [ 52.  28.  48.  18.]]]]\n"
     ]
    }
   ],
   "source": [
    "a = np.random.rand(5, 3, 2) * 10  # A batch of 5 matrices of size 3x2\n",
    "b = np.random.rand(5, 2, 4) * 10 # A batch of 5 matrices of size 2x4\n",
    "a = a.round()\n",
    "b = b.round()\n",
    "print('a', a)\n",
    "print('b', b)\n",
    "result  = np.dot(a,b)\n",
    "print(result)"
   ]
  },
  {
   "cell_type": "markdown",
   "id": "4c00dce3-1ab5-4f4e-9489-227519e59081",
   "metadata": {},
   "source": [
    "### Training"
   ]
  },
  {
   "cell_type": "code",
   "execution_count": 112,
   "id": "ad1b144b-a3c5-492c-b811-b533fe30bc48",
   "metadata": {
    "scrolled": true
   },
   "outputs": [
    {
     "name": "stdout",
     "output_type": "stream",
     "text": [
      "30.0\n",
      "[ -4. -16. -36. -64.]\n",
      "grad -30.0\n",
      "7.5\n",
      "[ 2.  8. 18. 32.]\n",
      "grad 15.0\n",
      "1.875\n",
      "[ -1.  -4.  -9. -16.]\n",
      "grad -7.5\n",
      "0.46875\n",
      "[0.5 2.  4.5 8. ]\n",
      "grad 3.75\n",
      "0.1171875\n",
      "[-0.25 -1.   -2.25 -4.  ]\n",
      "grad -1.875\n",
      "0.029296875\n",
      "[0.125 0.5   1.125 2.   ]\n",
      "grad 0.9375\n",
      "0.00732421875\n",
      "[-0.0625 -0.25   -0.5625 -1.    ]\n",
      "grad -0.46875\n",
      "0.0018310546875\n",
      "[0.03125 0.125   0.28125 0.5    ]\n",
      "grad 0.234375\n",
      "0.000457763671875\n",
      "[-0.015625 -0.0625   -0.140625 -0.25    ]\n",
      "grad -0.1171875\n",
      "0.00011444091796875\n",
      "[0.0078125 0.03125   0.0703125 0.125    ]\n",
      "grad 0.05859375\n"
     ]
    }
   ],
   "source": [
    "for a in range(10):\n",
    "    y_pred = forward(X)\n",
    "    l = loss(Y, y_pred)\n",
    "    print(l)\n",
    "    dw = grad(X,Y,y_pred)\n",
    "    print('grad', dw)\n",
    "    w -= 0.1 * dw\n",
    "    "
   ]
  },
  {
   "cell_type": "code",
   "execution_count": 92,
   "id": "82ecec20-27ab-43f0-815c-0bbb4937d2ce",
   "metadata": {},
   "outputs": [
    {
     "data": {
      "text/plain": [
       "array([1., 2., 3., 4.])"
      ]
     },
     "execution_count": 92,
     "metadata": {},
     "output_type": "execute_result"
    }
   ],
   "source": [
    "X"
   ]
  },
  {
   "cell_type": "code",
   "execution_count": 93,
   "id": "c00cce81-abfe-45f7-a41e-921527e279dd",
   "metadata": {},
   "outputs": [
    {
     "data": {
      "text/plain": [
       "array([1.5984375, 3.196875 , 4.7953125, 6.39375  ])"
      ]
     },
     "execution_count": 93,
     "metadata": {},
     "output_type": "execute_result"
    }
   ],
   "source": [
    "forward(X)"
   ]
  },
  {
   "cell_type": "code",
   "execution_count": 94,
   "id": "c48ce62a-f486-4474-88b4-a4d7d55fe564",
   "metadata": {},
   "outputs": [
    {
     "data": {
      "text/plain": [
       "array([2., 3., 5., 6.])"
      ]
     },
     "execution_count": 94,
     "metadata": {},
     "output_type": "execute_result"
    }
   ],
   "source": [
    "forward(X).round()"
   ]
  },
  {
   "cell_type": "code",
   "execution_count": 49,
   "id": "2beb30bb-6b94-4fcd-982b-dd623a6bed79",
   "metadata": {},
   "outputs": [
    {
     "data": {
      "text/plain": [
       "array([490.])"
      ]
     },
     "execution_count": 49,
     "metadata": {},
     "output_type": "execute_result"
    }
   ],
   "source": [
    "forward(np.array([245])).round()"
   ]
  },
  {
   "cell_type": "code",
   "execution_count": 41,
   "id": "f007b145-e36c-4388-9e7f-99569d52bcba",
   "metadata": {},
   "outputs": [
    {
     "data": {
      "text/plain": [
       "array([23])"
      ]
     },
     "execution_count": 41,
     "metadata": {},
     "output_type": "execute_result"
    }
   ],
   "source": [
    "np.round([23])"
   ]
  },
  {
   "cell_type": "code",
   "execution_count": null,
   "id": "cb9bde7d-dcb6-4e11-bc7e-059c29469457",
   "metadata": {},
   "outputs": [],
   "source": []
  }
 ],
 "metadata": {
  "kernelspec": {
   "display_name": "Python 3 (ipykernel)",
   "language": "python",
   "name": "python3"
  },
  "language_info": {
   "codemirror_mode": {
    "name": "ipython",
    "version": 3
   },
   "file_extension": ".py",
   "mimetype": "text/x-python",
   "name": "python",
   "nbconvert_exporter": "python",
   "pygments_lexer": "ipython3",
   "version": "3.12.3"
  }
 },
 "nbformat": 4,
 "nbformat_minor": 5
}
